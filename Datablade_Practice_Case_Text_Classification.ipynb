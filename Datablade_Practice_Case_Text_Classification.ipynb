{
 "cells": [
  {
   "cell_type": "code",
   "execution_count": 1,
   "metadata": {
    "ExecuteTime": {
     "end_time": "2021-07-26T12:36:00.087630Z",
     "start_time": "2021-07-26T12:35:58.563142Z"
    },
    "colab": {
     "base_uri": "https://localhost:8080/"
    },
    "id": "Pn6dnHkDDnsg",
    "outputId": "1bf9e642-d0df-439e-9a77-8e66bda2e6bc"
   },
   "outputs": [
    {
     "name": "stderr",
     "output_type": "stream",
     "text": [
      "[nltk_data] Downloading package stopwords to\n",
      "[nltk_data]     C:\\Users\\Ghaza\\AppData\\Roaming\\nltk_data...\n",
      "[nltk_data]   Package stopwords is already up-to-date!\n"
     ]
    },
    {
     "data": {
      "text/plain": [
       "True"
      ]
     },
     "execution_count": 1,
     "metadata": {},
     "output_type": "execute_result"
    }
   ],
   "source": [
    "import nltk\n",
    "nltk.download('stopwords')"
   ]
  },
  {
   "cell_type": "code",
   "execution_count": 2,
   "metadata": {
    "ExecuteTime": {
     "end_time": "2021-07-26T12:36:02.954744Z",
     "start_time": "2021-07-26T12:36:00.089631Z"
    },
    "colab": {
     "base_uri": "https://localhost:8080/"
    },
    "id": "YDwMVhIEEJYK",
    "outputId": "36732674-b95d-4d4c-ade4-fb34f2d0069b"
   },
   "outputs": [
    {
     "name": "stdout",
     "output_type": "stream",
     "text": [
      "Requirement already satisfied: sastrawi in c:\\users\\ghaza\\anaconda3\\lib\\site-packages (1.0.1)\n",
      "Note: you may need to restart the kernel to use updated packages.\n"
     ]
    }
   ],
   "source": [
    "pip install sastrawi"
   ]
  },
  {
   "cell_type": "code",
   "execution_count": 3,
   "metadata": {
    "ExecuteTime": {
     "end_time": "2021-07-26T12:36:03.396363Z",
     "start_time": "2021-07-26T12:36:02.956248Z"
    },
    "id": "snrcgD-7Drxa"
   },
   "outputs": [],
   "source": [
    "import pandas as pd\n",
    "\n",
    "import re\n",
    "import string\n",
    "\n",
    "from string import punctuation\n",
    "from nltk.corpus import stopwords\n",
    "\n",
    "stop_words = stopwords.words('indonesian')\n",
    "\n",
    "from sklearn.feature_extraction.text import CountVectorizer\n",
    "from sklearn.feature_extraction.text import TfidfVectorizer\n",
    "\n",
    "from Sastrawi.Stemmer.StemmerFactory import StemmerFactory\n",
    "factory = StemmerFactory()\n",
    "stemmer = factory.create_stemmer()\n",
    "\n",
    "from sklearn.model_selection import train_test_split\n",
    "from sklearn import svm, naive_bayes\n",
    "from sklearn.linear_model import LogisticRegression\n",
    "\n",
    "\n",
    "from sklearn.metrics import accuracy_score, confusion_matrix,classification_report"
   ]
  },
  {
   "cell_type": "code",
   "execution_count": 4,
   "metadata": {
    "ExecuteTime": {
     "end_time": "2021-07-26T12:36:03.428370Z",
     "start_time": "2021-07-26T12:36:03.397363Z"
    },
    "id": "1W-PGgH8EHlh"
   },
   "outputs": [],
   "source": [
    "bisnis=pd.read_csv('bisnis.csv')\n",
    "lifestyle=pd.read_csv('lifestyle.csv')\n",
    "sport=pd.read_csv('sport.csv')"
   ]
  },
  {
   "cell_type": "code",
   "execution_count": 5,
   "metadata": {
    "ExecuteTime": {
     "end_time": "2021-07-26T12:36:03.444374Z",
     "start_time": "2021-07-26T12:36:03.430371Z"
    },
    "id": "TzgVU7QWEVPA"
   },
   "outputs": [],
   "source": [
    "#make sentimen target\n",
    "bisnis['Sentimen']=1\n",
    "lifestyle['Sentimen']=2\n",
    "sport['Sentimen']=3"
   ]
  },
  {
   "cell_type": "code",
   "execution_count": 6,
   "metadata": {
    "ExecuteTime": {
     "end_time": "2021-07-26T12:36:03.459404Z",
     "start_time": "2021-07-26T12:36:03.446445Z"
    },
    "id": "ZvQz2H4dE2_c"
   },
   "outputs": [],
   "source": [
    "#combine data\n",
    "data=bisnis[['content','Sentimen']].append(lifestyle[['content','Sentimen']]).append(sport[['content','Sentimen']])"
   ]
  },
  {
   "cell_type": "code",
   "execution_count": 7,
   "metadata": {
    "ExecuteTime": {
     "end_time": "2021-07-26T12:36:03.489922Z",
     "start_time": "2021-07-26T12:36:03.463405Z"
    }
   },
   "outputs": [
    {
     "data": {
      "text/html": [
       "<div>\n",
       "<style scoped>\n",
       "    .dataframe tbody tr th:only-of-type {\n",
       "        vertical-align: middle;\n",
       "    }\n",
       "\n",
       "    .dataframe tbody tr th {\n",
       "        vertical-align: top;\n",
       "    }\n",
       "\n",
       "    .dataframe thead th {\n",
       "        text-align: right;\n",
       "    }\n",
       "</style>\n",
       "<table border=\"1\" class=\"dataframe\">\n",
       "  <thead>\n",
       "    <tr style=\"text-align: right;\">\n",
       "      <th></th>\n",
       "      <th>content</th>\n",
       "      <th>Sentimen</th>\n",
       "    </tr>\n",
       "  </thead>\n",
       "  <tbody>\n",
       "    <tr>\n",
       "      <th>0</th>\n",
       "      <td>b'TRIBUNNEWS.COM, JAKARTA -- Pemerintah optimi...</td>\n",
       "      <td>1</td>\n",
       "    </tr>\n",
       "    <tr>\n",
       "      <th>1</th>\n",
       "      <td>b'Laporan Wartawan Tribunnews.com, Yanuar Riez...</td>\n",
       "      <td>1</td>\n",
       "    </tr>\n",
       "    <tr>\n",
       "      <th>2</th>\n",
       "      <td>b'TRIBUNNEWS.COM - Masyarakat Indonesia dapat ...</td>\n",
       "      <td>1</td>\n",
       "    </tr>\n",
       "    <tr>\n",
       "      <th>3</th>\n",
       "      <td>b'TRIBUNNEWS.COM, JAKARTA -\\xc2\\xa0 Pemerintah...</td>\n",
       "      <td>1</td>\n",
       "    </tr>\n",
       "    <tr>\n",
       "      <th>4</th>\n",
       "      <td>b'Laporan Wartawan Tribunnews.com, Yanuar Riez...</td>\n",
       "      <td>1</td>\n",
       "    </tr>\n",
       "    <tr>\n",
       "      <th>...</th>\n",
       "      <td>...</td>\n",
       "      <td>...</td>\n",
       "    </tr>\n",
       "    <tr>\n",
       "      <th>35</th>\n",
       "      <td>b'TRIBUNNEWS.COM - Ajang Balapan MotoGP 2020, ...</td>\n",
       "      <td>3</td>\n",
       "    </tr>\n",
       "    <tr>\n",
       "      <th>36</th>\n",
       "      <td>b'TRIBUNNEWS.COM - Ajang Balapan MotoGP 2020, ...</td>\n",
       "      <td>3</td>\n",
       "    </tr>\n",
       "    <tr>\n",
       "      <th>37</th>\n",
       "      <td>b'TRIBUNNEWS.COM - Ajang Balapan MotoGP 2020, ...</td>\n",
       "      <td>3</td>\n",
       "    </tr>\n",
       "    <tr>\n",
       "      <th>38</th>\n",
       "      <td>b'TRIBUNNEWS.COM - Ajang Balapan MotoGP 2020, ...</td>\n",
       "      <td>3</td>\n",
       "    </tr>\n",
       "    <tr>\n",
       "      <th>39</th>\n",
       "      <td>b'TRIBUNNEWS.COM - Ajang Balapan MotoGP 2020, ...</td>\n",
       "      <td>3</td>\n",
       "    </tr>\n",
       "  </tbody>\n",
       "</table>\n",
       "<p>120 rows × 2 columns</p>\n",
       "</div>"
      ],
      "text/plain": [
       "                                              content  Sentimen\n",
       "0   b'TRIBUNNEWS.COM, JAKARTA -- Pemerintah optimi...         1\n",
       "1   b'Laporan Wartawan Tribunnews.com, Yanuar Riez...         1\n",
       "2   b'TRIBUNNEWS.COM - Masyarakat Indonesia dapat ...         1\n",
       "3   b'TRIBUNNEWS.COM, JAKARTA -\\xc2\\xa0 Pemerintah...         1\n",
       "4   b'Laporan Wartawan Tribunnews.com, Yanuar Riez...         1\n",
       "..                                                ...       ...\n",
       "35  b'TRIBUNNEWS.COM - Ajang Balapan MotoGP 2020, ...         3\n",
       "36  b'TRIBUNNEWS.COM - Ajang Balapan MotoGP 2020, ...         3\n",
       "37  b'TRIBUNNEWS.COM - Ajang Balapan MotoGP 2020, ...         3\n",
       "38  b'TRIBUNNEWS.COM - Ajang Balapan MotoGP 2020, ...         3\n",
       "39  b'TRIBUNNEWS.COM - Ajang Balapan MotoGP 2020, ...         3\n",
       "\n",
       "[120 rows x 2 columns]"
      ]
     },
     "execution_count": 7,
     "metadata": {},
     "output_type": "execute_result"
    }
   ],
   "source": [
    "data"
   ]
  },
  {
   "cell_type": "code",
   "execution_count": 8,
   "metadata": {
    "ExecuteTime": {
     "end_time": "2021-07-26T12:36:03.505926Z",
     "start_time": "2021-07-26T12:36:03.493923Z"
    }
   },
   "outputs": [],
   "source": [
    "data = data.reset_index(drop=True)"
   ]
  },
  {
   "cell_type": "code",
   "execution_count": 9,
   "metadata": {
    "ExecuteTime": {
     "end_time": "2021-07-26T12:36:03.521930Z",
     "start_time": "2021-07-26T12:36:03.507927Z"
    }
   },
   "outputs": [
    {
     "data": {
      "text/html": [
       "<div>\n",
       "<style scoped>\n",
       "    .dataframe tbody tr th:only-of-type {\n",
       "        vertical-align: middle;\n",
       "    }\n",
       "\n",
       "    .dataframe tbody tr th {\n",
       "        vertical-align: top;\n",
       "    }\n",
       "\n",
       "    .dataframe thead th {\n",
       "        text-align: right;\n",
       "    }\n",
       "</style>\n",
       "<table border=\"1\" class=\"dataframe\">\n",
       "  <thead>\n",
       "    <tr style=\"text-align: right;\">\n",
       "      <th></th>\n",
       "      <th>content</th>\n",
       "      <th>Sentimen</th>\n",
       "    </tr>\n",
       "  </thead>\n",
       "  <tbody>\n",
       "    <tr>\n",
       "      <th>0</th>\n",
       "      <td>b'TRIBUNNEWS.COM, JAKARTA -- Pemerintah optimi...</td>\n",
       "      <td>1</td>\n",
       "    </tr>\n",
       "    <tr>\n",
       "      <th>1</th>\n",
       "      <td>b'Laporan Wartawan Tribunnews.com, Yanuar Riez...</td>\n",
       "      <td>1</td>\n",
       "    </tr>\n",
       "    <tr>\n",
       "      <th>2</th>\n",
       "      <td>b'TRIBUNNEWS.COM - Masyarakat Indonesia dapat ...</td>\n",
       "      <td>1</td>\n",
       "    </tr>\n",
       "    <tr>\n",
       "      <th>3</th>\n",
       "      <td>b'TRIBUNNEWS.COM, JAKARTA -\\xc2\\xa0 Pemerintah...</td>\n",
       "      <td>1</td>\n",
       "    </tr>\n",
       "    <tr>\n",
       "      <th>4</th>\n",
       "      <td>b'Laporan Wartawan Tribunnews.com, Yanuar Riez...</td>\n",
       "      <td>1</td>\n",
       "    </tr>\n",
       "    <tr>\n",
       "      <th>...</th>\n",
       "      <td>...</td>\n",
       "      <td>...</td>\n",
       "    </tr>\n",
       "    <tr>\n",
       "      <th>115</th>\n",
       "      <td>b'TRIBUNNEWS.COM - Ajang Balapan MotoGP 2020, ...</td>\n",
       "      <td>3</td>\n",
       "    </tr>\n",
       "    <tr>\n",
       "      <th>116</th>\n",
       "      <td>b'TRIBUNNEWS.COM - Ajang Balapan MotoGP 2020, ...</td>\n",
       "      <td>3</td>\n",
       "    </tr>\n",
       "    <tr>\n",
       "      <th>117</th>\n",
       "      <td>b'TRIBUNNEWS.COM - Ajang Balapan MotoGP 2020, ...</td>\n",
       "      <td>3</td>\n",
       "    </tr>\n",
       "    <tr>\n",
       "      <th>118</th>\n",
       "      <td>b'TRIBUNNEWS.COM - Ajang Balapan MotoGP 2020, ...</td>\n",
       "      <td>3</td>\n",
       "    </tr>\n",
       "    <tr>\n",
       "      <th>119</th>\n",
       "      <td>b'TRIBUNNEWS.COM - Ajang Balapan MotoGP 2020, ...</td>\n",
       "      <td>3</td>\n",
       "    </tr>\n",
       "  </tbody>\n",
       "</table>\n",
       "<p>120 rows × 2 columns</p>\n",
       "</div>"
      ],
      "text/plain": [
       "                                               content  Sentimen\n",
       "0    b'TRIBUNNEWS.COM, JAKARTA -- Pemerintah optimi...         1\n",
       "1    b'Laporan Wartawan Tribunnews.com, Yanuar Riez...         1\n",
       "2    b'TRIBUNNEWS.COM - Masyarakat Indonesia dapat ...         1\n",
       "3    b'TRIBUNNEWS.COM, JAKARTA -\\xc2\\xa0 Pemerintah...         1\n",
       "4    b'Laporan Wartawan Tribunnews.com, Yanuar Riez...         1\n",
       "..                                                 ...       ...\n",
       "115  b'TRIBUNNEWS.COM - Ajang Balapan MotoGP 2020, ...         3\n",
       "116  b'TRIBUNNEWS.COM - Ajang Balapan MotoGP 2020, ...         3\n",
       "117  b'TRIBUNNEWS.COM - Ajang Balapan MotoGP 2020, ...         3\n",
       "118  b'TRIBUNNEWS.COM - Ajang Balapan MotoGP 2020, ...         3\n",
       "119  b'TRIBUNNEWS.COM - Ajang Balapan MotoGP 2020, ...         3\n",
       "\n",
       "[120 rows x 2 columns]"
      ]
     },
     "execution_count": 9,
     "metadata": {},
     "output_type": "execute_result"
    }
   ],
   "source": [
    "data"
   ]
  },
  {
   "cell_type": "code",
   "execution_count": 10,
   "metadata": {
    "ExecuteTime": {
     "end_time": "2021-07-26T12:36:03.537933Z",
     "start_time": "2021-07-26T12:36:03.523930Z"
    },
    "id": "Kcgu8HDiHrej"
   },
   "outputs": [],
   "source": [
    "data.to_csv('datagab.csv')"
   ]
  },
  {
   "cell_type": "markdown",
   "metadata": {
    "id": "p0aqa2HcNjDB"
   },
   "source": [
    "Lower Case"
   ]
  },
  {
   "cell_type": "code",
   "execution_count": 11,
   "metadata": {
    "ExecuteTime": {
     "end_time": "2021-07-26T12:36:03.553938Z",
     "start_time": "2021-07-26T12:36:03.539934Z"
    },
    "colab": {
     "base_uri": "https://localhost:8080/"
    },
    "id": "nAv3DUXAGBp1",
    "outputId": "966796db-6828-4ded-f4ac-ee4989b3d914"
   },
   "outputs": [
    {
     "data": {
      "text/plain": [
       "0      b'tribunnews.com, jakarta -- pemerintah optimi...\n",
       "1      b'laporan wartawan tribunnews.com, yanuar riez...\n",
       "2      b'tribunnews.com - masyarakat indonesia dapat ...\n",
       "3      b'tribunnews.com, jakarta -\\xc2\\xa0 pemerintah...\n",
       "4      b'laporan wartawan tribunnews.com, yanuar riez...\n",
       "                             ...                        \n",
       "115    b'tribunnews.com - ajang balapan motogp 2020, ...\n",
       "116    b'tribunnews.com - ajang balapan motogp 2020, ...\n",
       "117    b'tribunnews.com - ajang balapan motogp 2020, ...\n",
       "118    b'tribunnews.com - ajang balapan motogp 2020, ...\n",
       "119    b'tribunnews.com - ajang balapan motogp 2020, ...\n",
       "Name: content, Length: 120, dtype: object"
      ]
     },
     "execution_count": 11,
     "metadata": {},
     "output_type": "execute_result"
    }
   ],
   "source": [
    "data['content'] = [x.lower() for x in data['content']]\n",
    "data['content'] "
   ]
  },
  {
   "cell_type": "markdown",
   "metadata": {
    "id": "2N4P7Bv_N_0s"
   },
   "source": [
    "Removing White Space"
   ]
  },
  {
   "cell_type": "code",
   "execution_count": 12,
   "metadata": {
    "ExecuteTime": {
     "end_time": "2021-07-26T12:36:03.569941Z",
     "start_time": "2021-07-26T12:36:03.555937Z"
    },
    "colab": {
     "base_uri": "https://localhost:8080/"
    },
    "id": "bweLmPLMOEUs",
    "outputId": "f180150d-c1ce-4ee3-ee89-e0836be36fd2"
   },
   "outputs": [
    {
     "data": {
      "text/plain": [
       "0      b'tribunnews.com, jakarta -- pemerintah optimi...\n",
       "1      b'laporan wartawan tribunnews.com, yanuar riez...\n",
       "2      b'tribunnews.com - masyarakat indonesia dapat ...\n",
       "3      b'tribunnews.com, jakarta -\\xc2\\xa0 pemerintah...\n",
       "4      b'laporan wartawan tribunnews.com, yanuar riez...\n",
       "                             ...                        \n",
       "115    b'tribunnews.com - ajang balapan motogp 2020, ...\n",
       "116    b'tribunnews.com - ajang balapan motogp 2020, ...\n",
       "117    b'tribunnews.com - ajang balapan motogp 2020, ...\n",
       "118    b'tribunnews.com - ajang balapan motogp 2020, ...\n",
       "119    b'tribunnews.com - ajang balapan motogp 2020, ...\n",
       "Name: content, Length: 120, dtype: object"
      ]
     },
     "execution_count": 12,
     "metadata": {},
     "output_type": "execute_result"
    }
   ],
   "source": [
    "data['content']=[x.strip() for x in data['content']]\n",
    "data['content']"
   ]
  },
  {
   "cell_type": "markdown",
   "metadata": {
    "id": "ksikxBDOOLVC"
   },
   "source": [
    "Tokenization"
   ]
  },
  {
   "cell_type": "code",
   "execution_count": 13,
   "metadata": {
    "ExecuteTime": {
     "end_time": "2021-07-26T12:36:03.601932Z",
     "start_time": "2021-07-26T12:36:03.571942Z"
    },
    "colab": {
     "base_uri": "https://localhost:8080/"
    },
    "id": "aViHDD0DOQmR",
    "outputId": "87a0d432-ab64-4075-e3bd-af637c5b46bd"
   },
   "outputs": [
    {
     "data": {
      "text/plain": [
       "0      [b'tribunnews.com,, jakarta, --, pemerintah, o...\n",
       "1      [b'laporan, wartawan, tribunnews.com,, yanuar,...\n",
       "2      [b'tribunnews.com, -, masyarakat, indonesia, d...\n",
       "3      [b'tribunnews.com,, jakarta, -\\xc2\\xa0, pemeri...\n",
       "4      [b'laporan, wartawan, tribunnews.com,, yanuar,...\n",
       "                             ...                        \n",
       "115    [b'tribunnews.com, -, ajang, balapan, motogp, ...\n",
       "116    [b'tribunnews.com, -, ajang, balapan, motogp, ...\n",
       "117    [b'tribunnews.com, -, ajang, balapan, motogp, ...\n",
       "118    [b'tribunnews.com, -, ajang, balapan, motogp, ...\n",
       "119    [b'tribunnews.com, -, ajang, balapan, motogp, ...\n",
       "Name: content, Length: 120, dtype: object"
      ]
     },
     "execution_count": 13,
     "metadata": {},
     "output_type": "execute_result"
    }
   ],
   "source": [
    "data['content']= [x.split() for x in data['content']]\n",
    "data['content']"
   ]
  },
  {
   "cell_type": "markdown",
   "metadata": {
    "id": "M3DiGN9uOXcu"
   },
   "source": [
    "Removing Non-Alphanumeric Character"
   ]
  },
  {
   "cell_type": "code",
   "execution_count": 14,
   "metadata": {
    "ExecuteTime": {
     "end_time": "2021-07-26T12:36:03.663452Z",
     "start_time": "2021-07-26T12:36:03.603933Z"
    },
    "colab": {
     "base_uri": "https://localhost:8080/"
    },
    "id": "l960KEoJOZVm",
    "outputId": "c32b1dea-c376-49ba-ee21-f6085ece6072"
   },
   "outputs": [
    {
     "data": {
      "text/plain": [
       "0      [btribunnewscom, jakarta, , pemerintah, optimi...\n",
       "1      [blaporan, wartawan, tribunnewscom, yanuar, ri...\n",
       "2      [btribunnewscom, , masyarakat, indonesia, dapa...\n",
       "3      [btribunnewscom, jakarta, xc2xa0, pemerintah, ...\n",
       "4      [blaporan, wartawan, tribunnewscom, yanuar, ri...\n",
       "                             ...                        \n",
       "115    [btribunnewscom, , ajang, balapan, motogp, 202...\n",
       "116    [btribunnewscom, , ajang, balapan, motogp, 202...\n",
       "117    [btribunnewscom, , ajang, balapan, motogp, 202...\n",
       "118    [btribunnewscom, , ajang, balapan, motogp, 202...\n",
       "119    [btribunnewscom, , ajang, balapan, motogp, 202...\n",
       "Name: content, Length: 120, dtype: object"
      ]
     },
     "execution_count": 14,
     "metadata": {},
     "output_type": "execute_result"
    }
   ],
   "source": [
    "remove_table = str.maketrans(\"\", \"\", punctuation)\n",
    "nonpunctuation_stc = []\n",
    "for stc in data['content']:\n",
    "    words = [x.translate(remove_table) for x in stc]\n",
    "    words2 = []\n",
    "    for w in words:\n",
    "        w = [x for x in w if x.isalnum()]\n",
    "        w = \"\".join(w)\n",
    "        words2.append(w)\n",
    "    \n",
    "    nonpunctuation_stc.append(words2) \n",
    "    \n",
    "    \n",
    "    \n",
    "data['content']= nonpunctuation_stc\n",
    "data['content']"
   ]
  },
  {
   "cell_type": "markdown",
   "metadata": {
    "id": "kB6c6ishPIKD"
   },
   "source": [
    "Stopwords + Sastrawi"
   ]
  },
  {
   "cell_type": "code",
   "execution_count": 15,
   "metadata": {
    "ExecuteTime": {
     "end_time": "2021-07-26T12:36:03.679455Z",
     "start_time": "2021-07-26T12:36:03.665453Z"
    },
    "id": "B6bWfmlZUg8_"
   },
   "outputs": [],
   "source": [
    "from Sastrawi.StopWordRemover.StopWordRemoverFactory import StopWordRemoverFactory\n",
    "\n",
    "addOnStopwords = ['btribunnewscom']\n",
    "factory = StopWordRemoverFactory()\n",
    "stopwordSastrawi = factory.get_stop_words()\n",
    "stop_words=stop_words+stopwordSastrawi+addOnStopwords"
   ]
  },
  {
   "cell_type": "code",
   "execution_count": 16,
   "metadata": {
    "ExecuteTime": {
     "end_time": "2021-07-26T12:36:03.711463Z",
     "start_time": "2021-07-26T12:36:03.681456Z"
    }
   },
   "outputs": [
    {
     "data": {
      "text/plain": [
       "['ada',\n",
       " 'adalah',\n",
       " 'adanya',\n",
       " 'adapun',\n",
       " 'agak',\n",
       " 'agaknya',\n",
       " 'agar',\n",
       " 'akan',\n",
       " 'akankah',\n",
       " 'akhir',\n",
       " 'akhiri',\n",
       " 'akhirnya',\n",
       " 'aku',\n",
       " 'akulah',\n",
       " 'amat',\n",
       " 'amatlah',\n",
       " 'anda',\n",
       " 'andalah',\n",
       " 'antar',\n",
       " 'antara',\n",
       " 'antaranya',\n",
       " 'apa',\n",
       " 'apaan',\n",
       " 'apabila',\n",
       " 'apakah',\n",
       " 'apalagi',\n",
       " 'apatah',\n",
       " 'artinya',\n",
       " 'asal',\n",
       " 'asalkan',\n",
       " 'atas',\n",
       " 'atau',\n",
       " 'ataukah',\n",
       " 'ataupun',\n",
       " 'awal',\n",
       " 'awalnya',\n",
       " 'bagai',\n",
       " 'bagaikan',\n",
       " 'bagaimana',\n",
       " 'bagaimanakah',\n",
       " 'bagaimanapun',\n",
       " 'bagi',\n",
       " 'bagian',\n",
       " 'bahkan',\n",
       " 'bahwa',\n",
       " 'bahwasanya',\n",
       " 'baik',\n",
       " 'bakal',\n",
       " 'bakalan',\n",
       " 'balik',\n",
       " 'banyak',\n",
       " 'bapak',\n",
       " 'baru',\n",
       " 'bawah',\n",
       " 'beberapa',\n",
       " 'begini',\n",
       " 'beginian',\n",
       " 'beginikah',\n",
       " 'beginilah',\n",
       " 'begitu',\n",
       " 'begitukah',\n",
       " 'begitulah',\n",
       " 'begitupun',\n",
       " 'bekerja',\n",
       " 'belakang',\n",
       " 'belakangan',\n",
       " 'belum',\n",
       " 'belumlah',\n",
       " 'benar',\n",
       " 'benarkah',\n",
       " 'benarlah',\n",
       " 'berada',\n",
       " 'berakhir',\n",
       " 'berakhirlah',\n",
       " 'berakhirnya',\n",
       " 'berapa',\n",
       " 'berapakah',\n",
       " 'berapalah',\n",
       " 'berapapun',\n",
       " 'berarti',\n",
       " 'berawal',\n",
       " 'berbagai',\n",
       " 'berdatangan',\n",
       " 'beri',\n",
       " 'berikan',\n",
       " 'berikut',\n",
       " 'berikutnya',\n",
       " 'berjumlah',\n",
       " 'berkali-kali',\n",
       " 'berkata',\n",
       " 'berkehendak',\n",
       " 'berkeinginan',\n",
       " 'berkenaan',\n",
       " 'berlainan',\n",
       " 'berlalu',\n",
       " 'berlangsung',\n",
       " 'berlebihan',\n",
       " 'bermacam',\n",
       " 'bermacam-macam',\n",
       " 'bermaksud',\n",
       " 'bermula',\n",
       " 'bersama',\n",
       " 'bersama-sama',\n",
       " 'bersiap',\n",
       " 'bersiap-siap',\n",
       " 'bertanya',\n",
       " 'bertanya-tanya',\n",
       " 'berturut',\n",
       " 'berturut-turut',\n",
       " 'bertutur',\n",
       " 'berujar',\n",
       " 'berupa',\n",
       " 'besar',\n",
       " 'betul',\n",
       " 'betulkah',\n",
       " 'biasa',\n",
       " 'biasanya',\n",
       " 'bila',\n",
       " 'bilakah',\n",
       " 'bisa',\n",
       " 'bisakah',\n",
       " 'boleh',\n",
       " 'bolehkah',\n",
       " 'bolehlah',\n",
       " 'buat',\n",
       " 'bukan',\n",
       " 'bukankah',\n",
       " 'bukanlah',\n",
       " 'bukannya',\n",
       " 'bulan',\n",
       " 'bung',\n",
       " 'cara',\n",
       " 'caranya',\n",
       " 'cukup',\n",
       " 'cukupkah',\n",
       " 'cukuplah',\n",
       " 'cuma',\n",
       " 'dahulu',\n",
       " 'dalam',\n",
       " 'dan',\n",
       " 'dapat',\n",
       " 'dari',\n",
       " 'daripada',\n",
       " 'datang',\n",
       " 'dekat',\n",
       " 'demi',\n",
       " 'demikian',\n",
       " 'demikianlah',\n",
       " 'dengan',\n",
       " 'depan',\n",
       " 'di',\n",
       " 'dia',\n",
       " 'diakhiri',\n",
       " 'diakhirinya',\n",
       " 'dialah',\n",
       " 'diantara',\n",
       " 'diantaranya',\n",
       " 'diberi',\n",
       " 'diberikan',\n",
       " 'diberikannya',\n",
       " 'dibuat',\n",
       " 'dibuatnya',\n",
       " 'didapat',\n",
       " 'didatangkan',\n",
       " 'digunakan',\n",
       " 'diibaratkan',\n",
       " 'diibaratkannya',\n",
       " 'diingat',\n",
       " 'diingatkan',\n",
       " 'diinginkan',\n",
       " 'dijawab',\n",
       " 'dijelaskan',\n",
       " 'dijelaskannya',\n",
       " 'dikarenakan',\n",
       " 'dikatakan',\n",
       " 'dikatakannya',\n",
       " 'dikerjakan',\n",
       " 'diketahui',\n",
       " 'diketahuinya',\n",
       " 'dikira',\n",
       " 'dilakukan',\n",
       " 'dilalui',\n",
       " 'dilihat',\n",
       " 'dimaksud',\n",
       " 'dimaksudkan',\n",
       " 'dimaksudkannya',\n",
       " 'dimaksudnya',\n",
       " 'diminta',\n",
       " 'dimintai',\n",
       " 'dimisalkan',\n",
       " 'dimulai',\n",
       " 'dimulailah',\n",
       " 'dimulainya',\n",
       " 'dimungkinkan',\n",
       " 'dini',\n",
       " 'dipastikan',\n",
       " 'diperbuat',\n",
       " 'diperbuatnya',\n",
       " 'dipergunakan',\n",
       " 'diperkirakan',\n",
       " 'diperlihatkan',\n",
       " 'diperlukan',\n",
       " 'diperlukannya',\n",
       " 'dipersoalkan',\n",
       " 'dipertanyakan',\n",
       " 'dipunyai',\n",
       " 'diri',\n",
       " 'dirinya',\n",
       " 'disampaikan',\n",
       " 'disebut',\n",
       " 'disebutkan',\n",
       " 'disebutkannya',\n",
       " 'disini',\n",
       " 'disinilah',\n",
       " 'ditambahkan',\n",
       " 'ditandaskan',\n",
       " 'ditanya',\n",
       " 'ditanyai',\n",
       " 'ditanyakan',\n",
       " 'ditegaskan',\n",
       " 'ditujukan',\n",
       " 'ditunjuk',\n",
       " 'ditunjuki',\n",
       " 'ditunjukkan',\n",
       " 'ditunjukkannya',\n",
       " 'ditunjuknya',\n",
       " 'dituturkan',\n",
       " 'dituturkannya',\n",
       " 'diucapkan',\n",
       " 'diucapkannya',\n",
       " 'diungkapkan',\n",
       " 'dong',\n",
       " 'dua',\n",
       " 'dulu',\n",
       " 'empat',\n",
       " 'enggak',\n",
       " 'enggaknya',\n",
       " 'entah',\n",
       " 'entahlah',\n",
       " 'guna',\n",
       " 'gunakan',\n",
       " 'hal',\n",
       " 'hampir',\n",
       " 'hanya',\n",
       " 'hanyalah',\n",
       " 'hari',\n",
       " 'harus',\n",
       " 'haruslah',\n",
       " 'harusnya',\n",
       " 'hendak',\n",
       " 'hendaklah',\n",
       " 'hendaknya',\n",
       " 'hingga',\n",
       " 'ia',\n",
       " 'ialah',\n",
       " 'ibarat',\n",
       " 'ibaratkan',\n",
       " 'ibaratnya',\n",
       " 'ibu',\n",
       " 'ikut',\n",
       " 'ingat',\n",
       " 'ingat-ingat',\n",
       " 'ingin',\n",
       " 'inginkah',\n",
       " 'inginkan',\n",
       " 'ini',\n",
       " 'inikah',\n",
       " 'inilah',\n",
       " 'itu',\n",
       " 'itukah',\n",
       " 'itulah',\n",
       " 'jadi',\n",
       " 'jadilah',\n",
       " 'jadinya',\n",
       " 'jangan',\n",
       " 'jangankan',\n",
       " 'janganlah',\n",
       " 'jauh',\n",
       " 'jawab',\n",
       " 'jawaban',\n",
       " 'jawabnya',\n",
       " 'jelas',\n",
       " 'jelaskan',\n",
       " 'jelaslah',\n",
       " 'jelasnya',\n",
       " 'jika',\n",
       " 'jikalau',\n",
       " 'juga',\n",
       " 'jumlah',\n",
       " 'jumlahnya',\n",
       " 'justru',\n",
       " 'kala',\n",
       " 'kalau',\n",
       " 'kalaulah',\n",
       " 'kalaupun',\n",
       " 'kalian',\n",
       " 'kami',\n",
       " 'kamilah',\n",
       " 'kamu',\n",
       " 'kamulah',\n",
       " 'kan',\n",
       " 'kapan',\n",
       " 'kapankah',\n",
       " 'kapanpun',\n",
       " 'karena',\n",
       " 'karenanya',\n",
       " 'kasus',\n",
       " 'kata',\n",
       " 'katakan',\n",
       " 'katakanlah',\n",
       " 'katanya',\n",
       " 'ke',\n",
       " 'keadaan',\n",
       " 'kebetulan',\n",
       " 'kecil',\n",
       " 'kedua',\n",
       " 'keduanya',\n",
       " 'keinginan',\n",
       " 'kelamaan',\n",
       " 'kelihatan',\n",
       " 'kelihatannya',\n",
       " 'kelima',\n",
       " 'keluar',\n",
       " 'kembali',\n",
       " 'kemudian',\n",
       " 'kemungkinan',\n",
       " 'kemungkinannya',\n",
       " 'kenapa',\n",
       " 'kepada',\n",
       " 'kepadanya',\n",
       " 'kesampaian',\n",
       " 'keseluruhan',\n",
       " 'keseluruhannya',\n",
       " 'keterlaluan',\n",
       " 'ketika',\n",
       " 'khususnya',\n",
       " 'kini',\n",
       " 'kinilah',\n",
       " 'kira',\n",
       " 'kira-kira',\n",
       " 'kiranya',\n",
       " 'kita',\n",
       " 'kitalah',\n",
       " 'kok',\n",
       " 'kurang',\n",
       " 'lagi',\n",
       " 'lagian',\n",
       " 'lah',\n",
       " 'lain',\n",
       " 'lainnya',\n",
       " 'lalu',\n",
       " 'lama',\n",
       " 'lamanya',\n",
       " 'lanjut',\n",
       " 'lanjutnya',\n",
       " 'lebih',\n",
       " 'lewat',\n",
       " 'lima',\n",
       " 'luar',\n",
       " 'macam',\n",
       " 'maka',\n",
       " 'makanya',\n",
       " 'makin',\n",
       " 'malah',\n",
       " 'malahan',\n",
       " 'mampu',\n",
       " 'mampukah',\n",
       " 'mana',\n",
       " 'manakala',\n",
       " 'manalagi',\n",
       " 'masa',\n",
       " 'masalah',\n",
       " 'masalahnya',\n",
       " 'masih',\n",
       " 'masihkah',\n",
       " 'masing',\n",
       " 'masing-masing',\n",
       " 'mau',\n",
       " 'maupun',\n",
       " 'melainkan',\n",
       " 'melakukan',\n",
       " 'melalui',\n",
       " 'melihat',\n",
       " 'melihatnya',\n",
       " 'memang',\n",
       " 'memastikan',\n",
       " 'memberi',\n",
       " 'memberikan',\n",
       " 'membuat',\n",
       " 'memerlukan',\n",
       " 'memihak',\n",
       " 'meminta',\n",
       " 'memintakan',\n",
       " 'memisalkan',\n",
       " 'memperbuat',\n",
       " 'mempergunakan',\n",
       " 'memperkirakan',\n",
       " 'memperlihatkan',\n",
       " 'mempersiapkan',\n",
       " 'mempersoalkan',\n",
       " 'mempertanyakan',\n",
       " 'mempunyai',\n",
       " 'memulai',\n",
       " 'memungkinkan',\n",
       " 'menaiki',\n",
       " 'menambahkan',\n",
       " 'menandaskan',\n",
       " 'menanti',\n",
       " 'menanti-nanti',\n",
       " 'menantikan',\n",
       " 'menanya',\n",
       " 'menanyai',\n",
       " 'menanyakan',\n",
       " 'mendapat',\n",
       " 'mendapatkan',\n",
       " 'mendatang',\n",
       " 'mendatangi',\n",
       " 'mendatangkan',\n",
       " 'menegaskan',\n",
       " 'mengakhiri',\n",
       " 'mengapa',\n",
       " 'mengatakan',\n",
       " 'mengatakannya',\n",
       " 'mengenai',\n",
       " 'mengerjakan',\n",
       " 'mengetahui',\n",
       " 'menggunakan',\n",
       " 'menghendaki',\n",
       " 'mengibaratkan',\n",
       " 'mengibaratkannya',\n",
       " 'mengingat',\n",
       " 'mengingatkan',\n",
       " 'menginginkan',\n",
       " 'mengira',\n",
       " 'mengucapkan',\n",
       " 'mengucapkannya',\n",
       " 'mengungkapkan',\n",
       " 'menjadi',\n",
       " 'menjawab',\n",
       " 'menjelaskan',\n",
       " 'menuju',\n",
       " 'menunjuk',\n",
       " 'menunjuki',\n",
       " 'menunjukkan',\n",
       " 'menunjuknya',\n",
       " 'menurut',\n",
       " 'menuturkan',\n",
       " 'menyampaikan',\n",
       " 'menyangkut',\n",
       " 'menyatakan',\n",
       " 'menyebutkan',\n",
       " 'menyeluruh',\n",
       " 'menyiapkan',\n",
       " 'merasa',\n",
       " 'mereka',\n",
       " 'merekalah',\n",
       " 'merupakan',\n",
       " 'meski',\n",
       " 'meskipun',\n",
       " 'meyakini',\n",
       " 'meyakinkan',\n",
       " 'minta',\n",
       " 'mirip',\n",
       " 'misal',\n",
       " 'misalkan',\n",
       " 'misalnya',\n",
       " 'mula',\n",
       " 'mulai',\n",
       " 'mulailah',\n",
       " 'mulanya',\n",
       " 'mungkin',\n",
       " 'mungkinkah',\n",
       " 'nah',\n",
       " 'naik',\n",
       " 'namun',\n",
       " 'nanti',\n",
       " 'nantinya',\n",
       " 'nyaris',\n",
       " 'nyatanya',\n",
       " 'oleh',\n",
       " 'olehnya',\n",
       " 'pada',\n",
       " 'padahal',\n",
       " 'padanya',\n",
       " 'pak',\n",
       " 'paling',\n",
       " 'panjang',\n",
       " 'pantas',\n",
       " 'para',\n",
       " 'pasti',\n",
       " 'pastilah',\n",
       " 'penting',\n",
       " 'pentingnya',\n",
       " 'per',\n",
       " 'percuma',\n",
       " 'perlu',\n",
       " 'perlukah',\n",
       " 'perlunya',\n",
       " 'pernah',\n",
       " 'persoalan',\n",
       " 'pertama',\n",
       " 'pertama-tama',\n",
       " 'pertanyaan',\n",
       " 'pertanyakan',\n",
       " 'pihak',\n",
       " 'pihaknya',\n",
       " 'pukul',\n",
       " 'pula',\n",
       " 'pun',\n",
       " 'punya',\n",
       " 'rasa',\n",
       " 'rasanya',\n",
       " 'rata',\n",
       " 'rupanya',\n",
       " 'saat',\n",
       " 'saatnya',\n",
       " 'saja',\n",
       " 'sajalah',\n",
       " 'saling',\n",
       " 'sama',\n",
       " 'sama-sama',\n",
       " 'sambil',\n",
       " 'sampai',\n",
       " 'sampai-sampai',\n",
       " 'sampaikan',\n",
       " 'sana',\n",
       " 'sangat',\n",
       " 'sangatlah',\n",
       " 'satu',\n",
       " 'saya',\n",
       " 'sayalah',\n",
       " 'se',\n",
       " 'sebab',\n",
       " 'sebabnya',\n",
       " 'sebagai',\n",
       " 'sebagaimana',\n",
       " 'sebagainya',\n",
       " 'sebagian',\n",
       " 'sebaik',\n",
       " 'sebaik-baiknya',\n",
       " 'sebaiknya',\n",
       " 'sebaliknya',\n",
       " 'sebanyak',\n",
       " 'sebegini',\n",
       " 'sebegitu',\n",
       " 'sebelum',\n",
       " 'sebelumnya',\n",
       " 'sebenarnya',\n",
       " 'seberapa',\n",
       " 'sebesar',\n",
       " 'sebetulnya',\n",
       " 'sebisanya',\n",
       " 'sebuah',\n",
       " 'sebut',\n",
       " 'sebutlah',\n",
       " 'sebutnya',\n",
       " 'secara',\n",
       " 'secukupnya',\n",
       " 'sedang',\n",
       " 'sedangkan',\n",
       " 'sedemikian',\n",
       " 'sedikit',\n",
       " 'sedikitnya',\n",
       " 'seenaknya',\n",
       " 'segala',\n",
       " 'segalanya',\n",
       " 'segera',\n",
       " 'seharusnya',\n",
       " 'sehingga',\n",
       " 'seingat',\n",
       " 'sejak',\n",
       " 'sejauh',\n",
       " 'sejenak',\n",
       " 'sejumlah',\n",
       " 'sekadar',\n",
       " 'sekadarnya',\n",
       " 'sekali',\n",
       " 'sekali-kali',\n",
       " 'sekalian',\n",
       " 'sekaligus',\n",
       " 'sekalipun',\n",
       " 'sekarang',\n",
       " 'sekarang',\n",
       " 'sekecil',\n",
       " 'seketika',\n",
       " 'sekiranya',\n",
       " 'sekitar',\n",
       " 'sekitarnya',\n",
       " 'sekurang-kurangnya',\n",
       " 'sekurangnya',\n",
       " 'sela',\n",
       " 'selain',\n",
       " 'selaku',\n",
       " 'selalu',\n",
       " 'selama',\n",
       " 'selama-lamanya',\n",
       " 'selamanya',\n",
       " 'selanjutnya',\n",
       " 'seluruh',\n",
       " 'seluruhnya',\n",
       " 'semacam',\n",
       " 'semakin',\n",
       " 'semampu',\n",
       " 'semampunya',\n",
       " 'semasa',\n",
       " 'semasih',\n",
       " 'semata',\n",
       " 'semata-mata',\n",
       " 'semaunya',\n",
       " 'sementara',\n",
       " 'semisal',\n",
       " 'semisalnya',\n",
       " 'sempat',\n",
       " 'semua',\n",
       " 'semuanya',\n",
       " 'semula',\n",
       " 'sendiri',\n",
       " 'sendirian',\n",
       " 'sendirinya',\n",
       " 'seolah',\n",
       " 'seolah-olah',\n",
       " 'seorang',\n",
       " 'sepanjang',\n",
       " 'sepantasnya',\n",
       " 'sepantasnyalah',\n",
       " 'seperlunya',\n",
       " 'seperti',\n",
       " 'sepertinya',\n",
       " 'sepihak',\n",
       " 'sering',\n",
       " 'seringnya',\n",
       " 'serta',\n",
       " 'serupa',\n",
       " 'sesaat',\n",
       " 'sesama',\n",
       " 'sesampai',\n",
       " 'sesegera',\n",
       " 'sesekali',\n",
       " 'seseorang',\n",
       " 'sesuatu',\n",
       " 'sesuatunya',\n",
       " 'sesudah',\n",
       " 'sesudahnya',\n",
       " 'setelah',\n",
       " 'setempat',\n",
       " 'setengah',\n",
       " 'seterusnya',\n",
       " 'setiap',\n",
       " 'setiba',\n",
       " 'setibanya',\n",
       " 'setidak-tidaknya',\n",
       " 'setidaknya',\n",
       " 'setinggi',\n",
       " 'seusai',\n",
       " 'sewaktu',\n",
       " 'siap',\n",
       " 'siapa',\n",
       " 'siapakah',\n",
       " 'siapapun',\n",
       " 'sini',\n",
       " 'sinilah',\n",
       " 'soal',\n",
       " 'soalnya',\n",
       " 'suatu',\n",
       " 'sudah',\n",
       " 'sudahkah',\n",
       " 'sudahlah',\n",
       " 'supaya',\n",
       " 'tadi',\n",
       " 'tadinya',\n",
       " 'tahu',\n",
       " 'tahun',\n",
       " 'tak',\n",
       " 'tambah',\n",
       " 'tambahnya',\n",
       " 'tampak',\n",
       " 'tampaknya',\n",
       " 'tandas',\n",
       " 'tandasnya',\n",
       " 'tanpa',\n",
       " 'tanya',\n",
       " 'tanyakan',\n",
       " 'tanyanya',\n",
       " 'tapi',\n",
       " 'tegas',\n",
       " 'tegasnya',\n",
       " 'telah',\n",
       " 'tempat',\n",
       " 'tengah',\n",
       " 'tentang',\n",
       " 'tentu',\n",
       " 'tentulah',\n",
       " 'tentunya',\n",
       " 'tepat',\n",
       " 'terakhir',\n",
       " 'terasa',\n",
       " 'terbanyak',\n",
       " 'terdahulu',\n",
       " 'terdapat',\n",
       " 'terdiri',\n",
       " 'terhadap',\n",
       " 'terhadapnya',\n",
       " 'teringat',\n",
       " 'teringat-ingat',\n",
       " 'terjadi',\n",
       " 'terjadilah',\n",
       " 'terjadinya',\n",
       " 'terkira',\n",
       " 'terlalu',\n",
       " 'terlebih',\n",
       " 'terlihat',\n",
       " 'termasuk',\n",
       " 'ternyata',\n",
       " 'tersampaikan',\n",
       " 'tersebut',\n",
       " 'tersebutlah',\n",
       " 'tertentu',\n",
       " 'tertuju',\n",
       " 'terus',\n",
       " 'terutama',\n",
       " 'tetap',\n",
       " 'tetapi',\n",
       " 'tiap',\n",
       " 'tiba',\n",
       " 'tiba-tiba',\n",
       " 'tidak',\n",
       " 'tidakkah',\n",
       " 'tidaklah',\n",
       " 'tiga',\n",
       " 'tinggi',\n",
       " 'toh',\n",
       " 'tunjuk',\n",
       " 'turut',\n",
       " 'tutur',\n",
       " 'tuturnya',\n",
       " 'ucap',\n",
       " 'ucapnya',\n",
       " 'ujar',\n",
       " 'ujarnya',\n",
       " 'umum',\n",
       " 'umumnya',\n",
       " 'ungkap',\n",
       " 'ungkapnya',\n",
       " 'untuk',\n",
       " 'usah',\n",
       " 'usai',\n",
       " 'waduh',\n",
       " 'wah',\n",
       " 'wahai',\n",
       " 'waktu',\n",
       " 'waktunya',\n",
       " 'walau',\n",
       " 'walaupun',\n",
       " 'wong',\n",
       " 'yaitu',\n",
       " 'yakin',\n",
       " 'yakni',\n",
       " 'yang',\n",
       " 'yang',\n",
       " 'untuk',\n",
       " 'pada',\n",
       " 'ke',\n",
       " 'para',\n",
       " 'namun',\n",
       " 'menurut',\n",
       " 'antara',\n",
       " 'dia',\n",
       " 'dua',\n",
       " 'ia',\n",
       " 'seperti',\n",
       " 'jika',\n",
       " 'jika',\n",
       " 'sehingga',\n",
       " 'kembali',\n",
       " 'dan',\n",
       " 'tidak',\n",
       " 'ini',\n",
       " 'karena',\n",
       " 'kepada',\n",
       " 'oleh',\n",
       " 'saat',\n",
       " 'harus',\n",
       " 'sementara',\n",
       " 'setelah',\n",
       " 'belum',\n",
       " 'kami',\n",
       " 'sekitar',\n",
       " 'bagi',\n",
       " 'serta',\n",
       " 'di',\n",
       " 'dari',\n",
       " 'telah',\n",
       " 'sebagai',\n",
       " 'masih',\n",
       " 'hal',\n",
       " 'ketika',\n",
       " 'adalah',\n",
       " 'itu',\n",
       " 'dalam',\n",
       " 'bisa',\n",
       " 'bahwa',\n",
       " 'atau',\n",
       " 'hanya',\n",
       " 'kita',\n",
       " 'dengan',\n",
       " 'akan',\n",
       " 'juga',\n",
       " 'ada',\n",
       " 'mereka',\n",
       " 'sudah',\n",
       " 'saya',\n",
       " 'terhadap',\n",
       " 'secara',\n",
       " 'agar',\n",
       " 'lain',\n",
       " 'anda',\n",
       " 'begitu',\n",
       " 'mengapa',\n",
       " 'kenapa',\n",
       " 'yaitu',\n",
       " 'yakni',\n",
       " 'daripada',\n",
       " 'itulah',\n",
       " 'lagi',\n",
       " 'maka',\n",
       " 'tentang',\n",
       " 'demi',\n",
       " 'dimana',\n",
       " 'kemana',\n",
       " 'pula',\n",
       " 'sambil',\n",
       " 'sebelum',\n",
       " 'sesudah',\n",
       " 'supaya',\n",
       " 'guna',\n",
       " 'kah',\n",
       " 'pun',\n",
       " 'sampai',\n",
       " 'sedangkan',\n",
       " 'selagi',\n",
       " 'sementara',\n",
       " 'tetapi',\n",
       " 'apakah',\n",
       " 'kecuali',\n",
       " 'sebab',\n",
       " 'selain',\n",
       " 'seolah',\n",
       " 'seraya',\n",
       " 'seterusnya',\n",
       " 'tanpa',\n",
       " 'agak',\n",
       " 'boleh',\n",
       " 'dapat',\n",
       " 'dsb',\n",
       " 'dst',\n",
       " 'dll',\n",
       " 'dahulu',\n",
       " 'dulunya',\n",
       " 'anu',\n",
       " 'demikian',\n",
       " 'tapi',\n",
       " 'ingin',\n",
       " 'juga',\n",
       " 'nggak',\n",
       " 'mari',\n",
       " 'nanti',\n",
       " 'melainkan',\n",
       " 'oh',\n",
       " 'ok',\n",
       " 'seharusnya',\n",
       " 'sebetulnya',\n",
       " 'setiap',\n",
       " 'setidaknya',\n",
       " 'sesuatu',\n",
       " 'pasti',\n",
       " 'saja',\n",
       " 'toh',\n",
       " 'ya',\n",
       " 'walau',\n",
       " 'tolong',\n",
       " 'tentu',\n",
       " 'amat',\n",
       " 'apalagi',\n",
       " 'bagaimanapun',\n",
       " 'btribunnewscom']"
      ]
     },
     "execution_count": 16,
     "metadata": {},
     "output_type": "execute_result"
    }
   ],
   "source": [
    "stop_words"
   ]
  },
  {
   "cell_type": "code",
   "execution_count": 17,
   "metadata": {
    "ExecuteTime": {
     "end_time": "2021-07-26T12:36:03.901511Z",
     "start_time": "2021-07-26T12:36:03.713464Z"
    },
    "colab": {
     "base_uri": "https://localhost:8080/"
    },
    "id": "wexim4VRT12C",
    "outputId": "0bd4b311-54b3-4c30-fe3c-efe8b1b0b248"
   },
   "outputs": [
    {
     "data": {
      "text/plain": [
       "0      jakarta  pemerintah optimistis sektor pertania...\n",
       "1      blaporan wartawan tribunnewscom yanuar riezqi ...\n",
       "2       masyarakat indonesia menikmati token listrik ...\n",
       "3      jakarta xc2xa0 pemerintah dpr ri resmi mengesa...\n",
       "4      blaporan wartawan tribunnewscom yanuar riezqi ...\n",
       "                             ...                        \n",
       "115     ajang balapan motogp 2020 digelar pekan mingg...\n",
       "116     ajang balapan motogp 2020 digelar pekan mingg...\n",
       "117     ajang balapan motogp 2020 digelar pekan mingg...\n",
       "118     ajang balapan motogp 2020 digelar pekan mingg...\n",
       "119     ajang balapan motogp 2020 digelar pekan mingg...\n",
       "Name: content, Length: 120, dtype: object"
      ]
     },
     "execution_count": 17,
     "metadata": {},
     "output_type": "execute_result"
    }
   ],
   "source": [
    "# remove stopwords using Stopwords Indonesian\n",
    "stop_words.append(\"btribunnewcom\")\n",
    "nonstop_words = []\n",
    "for stc in data['content']:\n",
    "    words = [x for x in stc if x not in stop_words]\n",
    "    \n",
    "    nonstop_words.append(words)\n",
    "    \n",
    "data['content']= nonstop_words\n",
    "data['content'] = [\" \".join(x) for x in data['content']]\n",
    "data['content']"
   ]
  },
  {
   "cell_type": "markdown",
   "metadata": {
    "id": "tK6kbpAjUyRo"
   },
   "source": [
    "Stemming"
   ]
  },
  {
   "cell_type": "code",
   "execution_count": 18,
   "metadata": {
    "ExecuteTime": {
     "end_time": "2021-07-26T12:39:33.029864Z",
     "start_time": "2021-07-26T12:36:03.907513Z"
    },
    "colab": {
     "base_uri": "https://localhost:8080/"
    },
    "id": "EG6qZ0zzUzMP",
    "outputId": "78aa219c-0594-4a00-8cb5-7263525829ba"
   },
   "outputs": [
    {
     "data": {
      "text/plain": [
       "0      jakarta perintah optimistis sektor tani sangga...\n",
       "1      blaporan wartawan tribunnewscom yanuar riezqi ...\n",
       "2      masyarakat indonesia nikmat token listrik grat...\n",
       "3      jakarta xc2xa0 perintah dpr ri resmi kesah omn...\n",
       "4      blaporan wartawan tribunnewscom yanuar riezqi ...\n",
       "                             ...                        \n",
       "115    ajang balap motogp 2020 gelar pekan minggu 111...\n",
       "116    ajang balap motogp 2020 gelar pekan minggu 111...\n",
       "117    ajang balap motogp 2020 gelar pekan minggu 111...\n",
       "118    ajang balap motogp 2020 gelar pekan minggu 111...\n",
       "119    ajang balap motogp 2020 gelar pekan minggu 111...\n",
       "Name: content, Length: 120, dtype: object"
      ]
     },
     "execution_count": 18,
     "metadata": {},
     "output_type": "execute_result"
    }
   ],
   "source": [
    "data['content']= [stemmer.stem(x) for x in data['content']]\n",
    "data['content']"
   ]
  },
  {
   "cell_type": "code",
   "execution_count": 19,
   "metadata": {
    "ExecuteTime": {
     "end_time": "2021-07-26T12:39:33.045372Z",
     "start_time": "2021-07-26T12:39:33.031865Z"
    },
    "colab": {
     "base_uri": "https://localhost:8080/"
    },
    "id": "thQ5S1GdPJ7S",
    "outputId": "c652ed94-d076-41c3-df1f-352c670296fd"
   },
   "outputs": [
    {
     "data": {
      "text/plain": [
       "[('2020', 187),\n",
       " ('kerja', 175),\n",
       " ('motogp', 170),\n",
       " ('baca', 154),\n",
       " ('marc', 112),\n",
       " ('indonesia', 103),\n",
       " ('marquez', 98),\n",
       " ('balap', 89),\n",
       " ('cipta', 87),\n",
       " ('juara', 84)]"
      ]
     },
     "execution_count": 19,
     "metadata": {},
     "output_type": "execute_result"
    }
   ],
   "source": [
    "#high frequency word\n",
    "from collections import Counter\n",
    "cnt = Counter()\n",
    "for text in data['content'].values:\n",
    "    for word in text.split():\n",
    "        cnt[word] += 1\n",
    "        \n",
    "cnt.most_common(10)"
   ]
  },
  {
   "cell_type": "code",
   "execution_count": 22,
   "metadata": {
    "ExecuteTime": {
     "end_time": "2021-07-26T12:39:33.093383Z",
     "start_time": "2021-07-26T12:39:33.081380Z"
    }
   },
   "outputs": [
    {
     "data": {
      "text/plain": [
       "1    40\n",
       "2    40\n",
       "3    40\n",
       "Name: Sentimen, dtype: int64"
      ]
     },
     "execution_count": 22,
     "metadata": {},
     "output_type": "execute_result"
    }
   ],
   "source": [
    "data['Sentimen'].value_counts()"
   ]
  },
  {
   "cell_type": "code",
   "execution_count": 23,
   "metadata": {
    "ExecuteTime": {
     "end_time": "2021-07-26T12:39:33.109388Z",
     "start_time": "2021-07-26T12:39:33.095384Z"
    },
    "id": "e77h42POHXPV"
   },
   "outputs": [],
   "source": [
    "X_train2, X_test2, y_train2, y_test2 = train_test_split(data['content'], data['Sentimen'], test_size=0.25, random_state=10)"
   ]
  },
  {
   "cell_type": "code",
   "execution_count": 24,
   "metadata": {
    "ExecuteTime": {
     "end_time": "2021-07-26T12:39:33.141252Z",
     "start_time": "2021-07-26T12:39:33.111387Z"
    },
    "id": "-LXbJTBEHfhe"
   },
   "outputs": [],
   "source": [
    "cv = CountVectorizer()\n",
    "X_train_vect2 = cv.fit_transform(X_train2)\n",
    "X_test_vect2 = cv.transform(X_test2)"
   ]
  },
  {
   "cell_type": "markdown",
   "metadata": {},
   "source": [
    "# SVM Model"
   ]
  },
  {
   "cell_type": "code",
   "execution_count": 25,
   "metadata": {
    "ExecuteTime": {
     "end_time": "2021-07-26T12:39:33.172898Z",
     "start_time": "2021-07-26T12:39:33.143293Z"
    },
    "colab": {
     "base_uri": "https://localhost:8080/"
    },
    "id": "oXirsiRbHijb",
    "outputId": "adcb5d49-b318-477e-d23a-9b1f277aec7e"
   },
   "outputs": [
    {
     "data": {
      "text/plain": [
       "SVC()"
      ]
     },
     "execution_count": 25,
     "metadata": {},
     "output_type": "execute_result"
    }
   ],
   "source": [
    "#modelling with svm\n",
    "SVM = svm.SVC()\n",
    "SVM.fit(X_train_vect2, y_train2)"
   ]
  },
  {
   "cell_type": "code",
   "execution_count": 26,
   "metadata": {
    "ExecuteTime": {
     "end_time": "2021-07-26T12:39:33.188902Z",
     "start_time": "2021-07-26T12:39:33.174898Z"
    },
    "id": "5is4pGQmHnFP"
   },
   "outputs": [],
   "source": [
    "predicted_SVM1 = SVM.predict(X_test_vect2)"
   ]
  },
  {
   "cell_type": "markdown",
   "metadata": {},
   "source": [
    "## First Evaluation"
   ]
  },
  {
   "cell_type": "code",
   "execution_count": 27,
   "metadata": {
    "ExecuteTime": {
     "end_time": "2021-07-26T12:39:33.871233Z",
     "start_time": "2021-07-26T12:39:33.190902Z"
    }
   },
   "outputs": [
    {
     "data": {
      "text/plain": [
       "<AxesSubplot:title={'center':'Confusion Matrix'}, xlabel='Predicted label', ylabel='True label'>"
      ]
     },
     "execution_count": 27,
     "metadata": {},
     "output_type": "execute_result"
    },
    {
     "data": {
      "image/png": "[encoded data removed]",
      "text/plain": [
       "<Figure size 720x360 with 2 Axes>"
      ]
     },
     "metadata": {
      "needs_background": "light"
     },
     "output_type": "display_data"
    }
   ],
   "source": [
    "import scikitplot as skplt\n",
    "\n",
    "skplt.metrics.plot_confusion_matrix(\n",
    "    y_test2, \n",
    "    predicted_SVM1,\n",
    "    figsize=(10,5))"
   ]
  },
  {
   "cell_type": "code",
   "execution_count": 28,
   "metadata": {
    "ExecuteTime": {
     "end_time": "2021-07-26T12:39:33.886601Z",
     "start_time": "2021-07-26T12:39:33.872234Z"
    }
   },
   "outputs": [
    {
     "name": "stdout",
     "output_type": "stream",
     "text": [
      "              precision    recall  f1-score   support\n",
      "\n",
      "           1       1.00      1.00      1.00        10\n",
      "           2       0.92      1.00      0.96        11\n",
      "           3       1.00      0.89      0.94         9\n",
      "\n",
      "    accuracy                           0.97        30\n",
      "   macro avg       0.97      0.96      0.97        30\n",
      "weighted avg       0.97      0.97      0.97        30\n",
      "\n"
     ]
    }
   ],
   "source": [
    "from sklearn.metrics import classification_report\n",
    "\n",
    "print(classification_report(y_test2, predicted_SVM1))"
   ]
  },
  {
   "cell_type": "markdown",
   "metadata": {},
   "source": [
    "## Hyperparameter Tuning with GridSearchCV and Evaluation"
   ]
  },
  {
   "cell_type": "code",
   "execution_count": 29,
   "metadata": {
    "ExecuteTime": {
     "end_time": "2021-07-26T12:39:40.200851Z",
     "start_time": "2021-07-26T12:39:33.889602Z"
    }
   },
   "outputs": [
    {
     "name": "stdout",
     "output_type": "stream",
     "text": [
      "Fitting 5 folds for each of 8 candidates, totalling 40 fits\n",
      "{'C': 0.1, 'gamma': 'scale', 'kernel': 'linear'}\n",
      "              precision    recall  f1-score   support\n",
      "\n",
      "           1       1.00      0.90      0.95        10\n",
      "           2       0.92      1.00      0.96        11\n",
      "           3       1.00      1.00      1.00         9\n",
      "\n",
      "    accuracy                           0.97        30\n",
      "   macro avg       0.97      0.97      0.97        30\n",
      "weighted avg       0.97      0.97      0.97        30\n",
      "\n"
     ]
    }
   ],
   "source": [
    "from sklearn.model_selection import GridSearchCV\n",
    "from sklearn.svm import SVC \n",
    "\n",
    "# defining parameter range \n",
    "param_grid_SVM = {'C': [0.1, 1, 10, 100],  \n",
    "              'gamma': [1, 0.1, 0.01, 0.001, 0.0001], \n",
    "              'gamma':['scale', 'auto'],\n",
    "              'kernel': ['linear']}  \n",
    "   \n",
    "grid_SVM = GridSearchCV(SVC(), param_grid_SVM, refit = True, verbose = 3,n_jobs=-1) \n",
    "   \n",
    "# fitting the model for grid search \n",
    "grid_SVM.fit(X_train_vect2, y_train2) \n",
    " \n",
    "# print best parameter after tuning \n",
    "print(grid_SVM.best_params_) \n",
    "grid_predictions_SVM = grid_SVM.predict(X_test_vect2) \n",
    "   \n",
    "# print classification report \n",
    "print(classification_report(y_test2, grid_predictions_SVM)) "
   ]
  },
  {
   "cell_type": "code",
   "execution_count": 30,
   "metadata": {
    "ExecuteTime": {
     "end_time": "2021-07-26T12:48:46.597828Z",
     "start_time": "2021-07-26T12:48:46.408814Z"
    }
   },
   "outputs": [
    {
     "data": {
      "text/plain": [
       "<AxesSubplot:title={'center':'Confusion Matrix'}, xlabel='Predicted label', ylabel='True label'>"
      ]
     },
     "execution_count": 30,
     "metadata": {},
     "output_type": "execute_result"
    },
    {
     "data": {
      "image/png": "[encoded data removed]",
      "text/plain": [
       "<Figure size 720x360 with 2 Axes>"
      ]
     },
     "metadata": {
      "needs_background": "light"
     },
     "output_type": "display_data"
    }
   ],
   "source": [
    "import scikitplot as skplt\n",
    "\n",
    "skplt.metrics.plot_confusion_matrix(\n",
    "    y_test2, \n",
    "    grid_predictions_SVM,\n",
    "    figsize=(10,5))"
   ]
  },
  {
   "cell_type": "markdown",
   "metadata": {},
   "source": [
    "# ANN"
   ]
  },
  {
   "cell_type": "code",
   "execution_count": 31,
   "metadata": {
    "ExecuteTime": {
     "end_time": "2021-07-26T14:30:53.376491Z",
     "start_time": "2021-07-26T14:30:21.861606Z"
    }
   },
   "outputs": [
    {
     "name": "stderr",
     "output_type": "stream",
     "text": [
      "C:\\Users\\Ghaza\\anaconda3\\lib\\site-packages\\sklearn\\model_selection\\_search.py:918: UserWarning: One or more of the test scores are non-finite: [       nan        nan        nan        nan        nan        nan\n",
      "        nan        nan        nan        nan        nan        nan\n",
      "        nan        nan        nan        nan        nan        nan\n",
      "        nan        nan        nan        nan        nan        nan\n",
      " 0.82222222 0.95555556 0.85555556 0.96666667 0.9        0.93333333\n",
      " 0.9        0.95555556 0.91111111 0.93333333 0.87777778 0.94444444\n",
      " 0.88888889 0.93333333 0.93333333 0.94444444 0.91111111 0.96666667\n",
      " 0.9        0.93333333 0.88888889 0.93333333 0.87777778 0.96666667\n",
      " 0.73333333 0.95555556 0.8        0.95555556 0.87777778 0.94444444\n",
      " 0.76666667 0.93333333 0.82222222 0.96666667 0.83333333 0.95555556\n",
      " 0.71111111 0.94444444 0.84444444 0.96666667 0.88888889 0.94444444\n",
      " 0.71111111 0.95555556 0.85555556 0.95555556 0.9        0.97777778]\n",
      "  warnings.warn(\n"
     ]
    },
    {
     "name": "stdout",
     "output_type": "stream",
     "text": [
      "Best parameters found:\n",
      " {'activation': 'relu', 'alpha': 0.0005, 'hidden_layer_sizes': (50,), 'solver': 'adam'}\n",
      "              precision    recall  f1-score   support\n",
      "\n",
      "           1       1.00      1.00      1.00        10\n",
      "           2       1.00      1.00      1.00        11\n",
      "           3       1.00      1.00      1.00         9\n",
      "\n",
      "    accuracy                           1.00        30\n",
      "   macro avg       1.00      1.00      1.00        30\n",
      "weighted avg       1.00      1.00      1.00        30\n",
      "\n"
     ]
    }
   ],
   "source": [
    "from sklearn.neural_network import MLPClassifier\n",
    "from sklearn.model_selection import GridSearchCV\n",
    "mlp_gs = MLPClassifier(max_iter=100)\n",
    "parameter_space = {\n",
    "    'hidden_layer_sizes': [(10,30,10),(20,),(50,)],\n",
    "    'activation': ['sigmoid','tanh', 'relu'],\n",
    "    'solver': ['sgd', 'adam'],\n",
    "    'alpha': [0.0001, 0.05, 0.01, 0.0005]\n",
    "}\n",
    "clf = GridSearchCV(mlp_gs, parameter_space,refit=True, n_jobs=-1, cv=5)\n",
    "clf.fit(X_train_vect2, y_train2) \n",
    "print('Best parameters found:\\n', clf.best_params_)\n",
    "\n",
    "clf_prediction = clf.predict(X_test_vect2) \n",
    "   \n",
    "# print classification report \n",
    "print(classification_report(y_test2, clf_prediction)) "
   ]
  },
  {
   "cell_type": "code",
   "execution_count": 34,
   "metadata": {
    "ExecuteTime": {
     "end_time": "2021-07-26T14:42:45.661840Z",
     "start_time": "2021-07-26T14:42:45.477799Z"
    }
   },
   "outputs": [
    {
     "data": {
      "text/plain": [
       "<AxesSubplot:title={'center':'Confusion Matrix'}, xlabel='Predicted label', ylabel='True label'>"
      ]
     },
     "execution_count": 34,
     "metadata": {},
     "output_type": "execute_result"
    },
    {
     "data": {
      "image/png": "[encoded data removed]",
      "text/plain": [
       "<Figure size 720x360 with 2 Axes>"
      ]
     },
     "metadata": {
      "needs_background": "light"
     },
     "output_type": "display_data"
    }
   ],
   "source": [
    "import scikitplot as skplt\n",
    "\n",
    "skplt.metrics.plot_confusion_matrix(\n",
    "    y_test2, \n",
    "    clf_prediction,\n",
    "    figsize=(10,5))"
   ]
  },
  {
   "cell_type": "markdown",
   "metadata": {},
   "source": [
    "# Random Forest"
   ]
  },
  {
   "cell_type": "code",
   "execution_count": 33,
   "metadata": {
    "ExecuteTime": {
     "end_time": "2021-07-26T14:42:05.677505Z",
     "start_time": "2021-07-26T14:39:48.625254Z"
    }
   },
   "outputs": [
    {
     "name": "stdout",
     "output_type": "stream",
     "text": [
      "Best parameters found:\n",
      " {'criterion': 'entropy', 'max_depth': 7, 'max_features': 'log2', 'n_estimators': 200}\n",
      "              precision    recall  f1-score   support\n",
      "\n",
      "           1       1.00      0.90      0.95        10\n",
      "           2       0.85      1.00      0.92        11\n",
      "           3       1.00      0.89      0.94         9\n",
      "\n",
      "    accuracy                           0.93        30\n",
      "   macro avg       0.95      0.93      0.94        30\n",
      "weighted avg       0.94      0.93      0.93        30\n",
      "\n"
     ]
    }
   ],
   "source": [
    "from sklearn.ensemble import RandomForestClassifier\n",
    "\n",
    "randomforest = RandomForestClassifier()\n",
    "\n",
    "param_grid = { \n",
    "    'n_estimators': [200, 500],\n",
    "    'max_features': ['auto', 'sqrt', 'log2'],\n",
    "    'max_depth' : [4,5,6,7,8],\n",
    "    'criterion' :['gini', 'entropy']\n",
    "}\n",
    "\n",
    "clf_randomforest = GridSearchCV(randomforest, param_grid=param_grid,refit=True, cv= 5)\n",
    "\n",
    "clf_randomforest.fit(X_train_vect2, y_train2) \n",
    "print('Best parameters found:\\n', clf_randomforest.best_params_)\n",
    "\n",
    "clf_prediction_randomforest = clf_randomforest.predict(X_test_vect2) \n",
    "   \n",
    "# print classification report \n",
    "print(classification_report(y_test2, clf_prediction_randomforest)) "
   ]
  },
  {
   "cell_type": "code",
   "execution_count": 35,
   "metadata": {
    "ExecuteTime": {
     "end_time": "2021-07-26T14:44:33.561561Z",
     "start_time": "2021-07-26T14:44:33.193478Z"
    }
   },
   "outputs": [
    {
     "data": {
      "text/plain": [
       "<AxesSubplot:title={'center':'Confusion Matrix'}, xlabel='Predicted label', ylabel='True label'>"
      ]
     },
     "execution_count": 35,
     "metadata": {},
     "output_type": "execute_result"
    },
    {
     "data": {
      "image/png": "[encoded data removed]",
      "text/plain": [
       "<Figure size 720x360 with 2 Axes>"
      ]
     },
     "metadata": {
      "needs_background": "light"
     },
     "output_type": "display_data"
    }
   ],
   "source": [
    "import scikitplot as skplt\n",
    "\n",
    "skplt.metrics.plot_confusion_matrix(\n",
    "    y_test2, \n",
    "    clf_prediction_randomforest,\n",
    "    figsize=(10,5))"
   ]
  },
  {
   "cell_type": "code",
   "execution_count": null,
   "metadata": {},
   "outputs": [],
   "source": []
  }
 ],
 "metadata": {
  "colab": {
   "name": "Practice Case Text Classification",
   "provenance": []
  },
  "kernelspec": {
   "display_name": "Python 3",
   "language": "python",
   "name": "python3"
  },
  "language_info": {
   "codemirror_mode": {
    "name": "ipython",
    "version": 3
   },
   "file_extension": ".py",
   "mimetype": "text/x-python",
   "name": "python",
   "nbconvert_exporter": "python",
   "pygments_lexer": "ipython3",
   "version": "3.8.8"
  },
  "toc": {
   "base_numbering": 1,
   "nav_menu": {},
   "number_sections": true,
   "sideBar": true,
   "skip_h1_title": false,
   "title_cell": "Table of Contents",
   "title_sidebar": "Contents",
   "toc_cell": false,
   "toc_position": {},
   "toc_section_display": true,
   "toc_window_display": true
  }
 },
 "nbformat": 4,
 "nbformat_minor": 1
}
